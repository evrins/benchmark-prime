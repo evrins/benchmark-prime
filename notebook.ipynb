{
 "cells": [
  {
   "cell_type": "code",
   "id": "initial_id",
   "metadata": {},
   "source": [
    "import numpy    as np\n",
    "import seaborn as sns\n",
    "import matplotlib.pyplot as plt\n",
    "import pandas as pd\n"
   ],
   "outputs": [],
   "execution_count": null
  },
  {
   "cell_type": "code",
   "id": "253c44844c6a969f",
   "metadata": {},
   "source": [
    "df = pd.read_csv('data.csv', skipinitialspace=True)\n",
    "df.columns = df.columns.str.strip()"
   ],
   "outputs": [],
   "execution_count": null
  },
  {
   "cell_type": "code",
   "id": "ee037132011d5351",
   "metadata": {},
   "source": [
    "df"
   ],
   "outputs": [],
   "execution_count": null
  },
  {
   "cell_type": "code",
   "id": "39d03d2d5f6c3c2f",
   "metadata": {},
   "source": [
    "df[df['lang']=='py']"
   ],
   "outputs": [],
   "execution_count": null
  },
  {
   "cell_type": "code",
   "id": "9bc7b5df13449508",
   "metadata": {},
   "source": [
    "df['total_log10'] = np.log10(df['total'])\n",
    "df['time_log2'] = np.log2(df['time'])\n",
    "df"
   ],
   "outputs": [],
   "execution_count": null
  },
  {
   "cell_type": "code",
   "id": "deabea4a614bdcec",
   "metadata": {},
   "source": [
    "langs = df['lang'].unique()\n",
    "\n",
    "sns.set_theme()\n",
    "sns.set(rc={'figure.figsize':(16, 12)})\n",
    "sns.lineplot(data=df, x='total_log10', y='time', hue='lang')\n",
    "\n",
    "plt.title(\"Time Cost by Calculating Prime Number\")\n",
    "plt.show()"
   ],
   "outputs": [],
   "execution_count": null
  },
  {
   "metadata": {},
   "cell_type": "markdown",
   "source": "",
   "id": "a59f19144a298f8"
  }
 ],
 "metadata": {
  "kernelspec": {
   "display_name": "Python 3 (ipykernel)",
   "language": "python",
   "name": "python3"
  },
  "language_info": {
   "codemirror_mode": {
    "name": "ipython",
    "version": 3
   },
   "file_extension": ".py",
   "mimetype": "text/x-python",
   "name": "python",
   "nbconvert_exporter": "python",
   "pygments_lexer": "ipython3",
   "version": "3.12.2"
  }
 },
 "nbformat": 4,
 "nbformat_minor": 5
}
